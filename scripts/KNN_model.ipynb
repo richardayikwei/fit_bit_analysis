{
 "cells": [
  {
   "cell_type": "code",
   "execution_count": 21,
   "id": "273fb153",
   "metadata": {},
   "outputs": [],
   "source": [
    "import pandas as pd\n",
    "import numpy as np\n",
    "from sklearn.neighbors import KNeighborsClassifier\n",
    "from sklearn.model_selection import train_test_split,cross_val_score\n",
    "import matplotlib.pyplot as plt\n",
    "import seaborn as sns\n",
    "sns.set_context('notebook')\n",
    "sns.set_style('whitegrid')"
   ]
  },
  {
   "cell_type": "code",
   "execution_count": 22,
   "id": "f00fea72",
   "metadata": {},
   "outputs": [
    {
     "data": {
      "application/vnd.microsoft.datawrangler.viewer.v0+json": {
       "columns": [
        {
         "name": "index",
         "rawType": "int64",
         "type": "integer"
        },
        {
         "name": "Id",
         "rawType": "int64",
         "type": "integer"
        },
        {
         "name": "ActivityDate",
         "rawType": "datetime64[ns]",
         "type": "datetime"
        },
        {
         "name": "TotalSteps",
         "rawType": "int64",
         "type": "integer"
        },
        {
         "name": "LogTotalSteps",
         "rawType": "float64",
         "type": "float"
        },
        {
         "name": "Day",
         "rawType": "int64",
         "type": "integer"
        },
        {
         "name": "NoExercise",
         "rawType": "int64",
         "type": "integer"
        }
       ],
       "ref": "c4f90729-4c5b-4c8a-96cc-39c0c791b155",
       "rows": [
        [
         "0",
         "1503960366",
         "2016-03-25 00:00:00",
         "11004",
         "9.30610499396056",
         "4",
         "0"
        ],
        [
         "1",
         "1503960366",
         "2016-03-26 00:00:00",
         "17609",
         "9.776222201490253",
         "5",
         "0"
        ],
        [
         "2",
         "1503960366",
         "2016-03-27 00:00:00",
         "12736",
         "9.45226642258976",
         "6",
         "0"
        ],
        [
         "3",
         "1503960366",
         "2016-03-28 00:00:00",
         "13231",
         "9.490393417263473",
         "0",
         "0"
        ],
        [
         "4",
         "1503960366",
         "2016-03-29 00:00:00",
         "12041",
         "9.396155818024392",
         "1",
         "0"
        ],
        [
         "5",
         "1503960366",
         "2016-03-30 00:00:00",
         "10970",
         "9.30301070681749",
         "2",
         "0"
        ],
        [
         "6",
         "1503960366",
         "2016-03-31 00:00:00",
         "12256",
         "9.413852481341165",
         "3",
         "0"
        ],
        [
         "7",
         "1503960366",
         "2016-04-01 00:00:00",
         "12262",
         "9.414341877762029",
         "4",
         "0"
        ],
        [
         "8",
         "1503960366",
         "2016-04-02 00:00:00",
         "11248",
         "9.328034514792826",
         "5",
         "0"
        ],
        [
         "9",
         "1503960366",
         "2016-04-03 00:00:00",
         "10016",
         "9.212038928611763",
         "6",
         "0"
        ],
        [
         "10",
         "1503960366",
         "2016-04-04 00:00:00",
         "14557",
         "9.585895949678203",
         "0",
         "0"
        ],
        [
         "11",
         "1503960366",
         "2016-04-05 00:00:00",
         "14844",
         "9.60541838719786",
         "1",
         "0"
        ],
        [
         "12",
         "1503960366",
         "2016-04-06 00:00:00",
         "11974",
         "9.390576422279116",
         "2",
         "0"
        ],
        [
         "13",
         "1503960366",
         "2016-04-07 00:00:00",
         "10198",
         "9.230044955250518",
         "3",
         "0"
        ],
        [
         "14",
         "1503960366",
         "2016-04-08 00:00:00",
         "12521",
         "9.435242376305256",
         "4",
         "0"
        ],
        [
         "15",
         "1503960366",
         "2016-04-09 00:00:00",
         "12432",
         "9.428109506952936",
         "5",
         "0"
        ],
        [
         "16",
         "1503960366",
         "2016-04-10 00:00:00",
         "10057",
         "9.21612361673191",
         "6",
         "0"
        ],
        [
         "17",
         "1503960366",
         "2016-04-11 00:00:00",
         "10990",
         "9.3048320350689",
         "0",
         "0"
        ],
        [
         "18",
         "1503960366",
         "2016-04-12 00:00:00",
         "224",
         "5.41610040220442",
         "1",
         "1"
        ],
        [
         "19",
         "1624580081",
         "2016-03-25 00:00:00",
         "1810",
         "7.501634457883413",
         "4",
         "1"
        ],
        [
         "20",
         "1624580081",
         "2016-03-26 00:00:00",
         "815",
         "6.704414354964107",
         "5",
         "1"
        ],
        [
         "21",
         "1624580081",
         "2016-03-27 00:00:00",
         "1985",
         "7.593877844605118",
         "6",
         "1"
        ],
        [
         "22",
         "1624580081",
         "2016-03-28 00:00:00",
         "1905",
         "7.552762084214147",
         "0",
         "1"
        ],
        [
         "23",
         "1624580081",
         "2016-03-29 00:00:00",
         "1552",
         "7.347943823148687",
         "1",
         "1"
        ],
        [
         "24",
         "1624580081",
         "2016-03-30 00:00:00",
         "1675",
         "7.424165281042028",
         "2",
         "1"
        ],
        [
         "25",
         "1624580081",
         "2016-03-31 00:00:00",
         "4506",
         "8.413387022690648",
         "3",
         "1"
        ],
        [
         "26",
         "1624580081",
         "2016-04-01 00:00:00",
         "9218",
         "9.129021850798594",
         "4",
         "0"
        ],
        [
         "27",
         "1624580081",
         "2016-04-02 00:00:00",
         "1556",
         "7.350516171833998",
         "5",
         "1"
        ],
        [
         "28",
         "1624580081",
         "2016-04-03 00:00:00",
         "2910",
         "7.976251943745623",
         "6",
         "1"
        ],
        [
         "29",
         "1624580081",
         "2016-04-04 00:00:00",
         "18464",
         "9.823632327286663",
         "0",
         "0"
        ],
        [
         "30",
         "1624580081",
         "2016-04-05 00:00:00",
         "1335",
         "7.197435354096591",
         "1",
         "1"
        ],
        [
         "31",
         "1624580081",
         "2016-04-06 00:00:00",
         "1004",
         "6.912742820493176",
         "2",
         "1"
        ],
        [
         "32",
         "1624580081",
         "2016-04-07 00:00:00",
         "1111",
         "7.013915474810528",
         "3",
         "1"
        ],
        [
         "33",
         "1624580081",
         "2016-04-08 00:00:00",
         "6344",
         "8.755422380148488",
         "4",
         "0"
        ],
        [
         "34",
         "1624580081",
         "2016-04-09 00:00:00",
         "3572",
         "8.181160858023409",
         "5",
         "1"
        ],
        [
         "35",
         "1624580081",
         "2016-04-10 00:00:00",
         "3910",
         "8.271548374755515",
         "6",
         "1"
        ],
        [
         "36",
         "1624580081",
         "2016-04-11 00:00:00",
         "10000",
         "9.210440366976515",
         "0",
         "0"
        ],
        [
         "37",
         "1624580081",
         "2016-04-12 00:00:00",
         "6627",
         "8.799058378546453",
         "1",
         "0"
        ],
        [
         "38",
         "1644430081",
         "2016-04-01 00:00:00",
         "4636",
         "8.441822884391462",
         "4",
         "1"
        ],
        [
         "39",
         "1644430081",
         "2016-04-02 00:00:00",
         "20237",
         "9.915317304289704",
         "5",
         "0"
        ],
        [
         "40",
         "1644430081",
         "2016-04-03 00:00:00",
         "12912",
         "9.465989834846653",
         "6",
         "0"
        ],
        [
         "41",
         "1644430081",
         "2016-04-04 00:00:00",
         "2819",
         "7.944492163932159",
         "0",
         "1"
        ],
        [
         "42",
         "1644430081",
         "2016-04-05 00:00:00",
         "9921",
         "9.202509792860994",
         "1",
         "0"
        ],
        [
         "43",
         "1644430081",
         "2016-04-06 00:00:00",
         "8046",
         "8.993054630146133",
         "2",
         "0"
        ],
        [
         "44",
         "1644430081",
         "2016-04-07 00:00:00",
         "11166",
         "9.320718279445792",
         "3",
         "0"
        ],
        [
         "45",
         "1644430081",
         "2016-04-08 00:00:00",
         "7842",
         "8.967376693212666",
         "4",
         "0"
        ],
        [
         "46",
         "1644430081",
         "2016-04-09 00:00:00",
         "13840",
         "9.535390480896702",
         "5",
         "0"
        ],
        [
         "47",
         "1644430081",
         "2016-04-10 00:00:00",
         "1329",
         "7.1929342212158",
         "6",
         "1"
        ],
        [
         "48",
         "1844505072",
         "2016-04-01 00:00:00",
         "6847",
         "8.831711917821577",
         "4",
         "0"
        ],
        [
         "49",
         "1844505072",
         "2016-04-02 00:00:00",
         "5367",
         "8.588210678651517",
         "5",
         "0"
        ]
       ],
       "shape": {
        "columns": 6,
        "rows": 415
       }
      },
      "text/html": [
       "<div>\n",
       "<style scoped>\n",
       "    .dataframe tbody tr th:only-of-type {\n",
       "        vertical-align: middle;\n",
       "    }\n",
       "\n",
       "    .dataframe tbody tr th {\n",
       "        vertical-align: top;\n",
       "    }\n",
       "\n",
       "    .dataframe thead th {\n",
       "        text-align: right;\n",
       "    }\n",
       "</style>\n",
       "<table border=\"1\" class=\"dataframe\">\n",
       "  <thead>\n",
       "    <tr style=\"text-align: right;\">\n",
       "      <th></th>\n",
       "      <th>Id</th>\n",
       "      <th>ActivityDate</th>\n",
       "      <th>TotalSteps</th>\n",
       "      <th>LogTotalSteps</th>\n",
       "      <th>Day</th>\n",
       "      <th>NoExercise</th>\n",
       "    </tr>\n",
       "  </thead>\n",
       "  <tbody>\n",
       "    <tr>\n",
       "      <th>0</th>\n",
       "      <td>1503960366</td>\n",
       "      <td>2016-03-25</td>\n",
       "      <td>11004</td>\n",
       "      <td>9.306105</td>\n",
       "      <td>4</td>\n",
       "      <td>0</td>\n",
       "    </tr>\n",
       "    <tr>\n",
       "      <th>1</th>\n",
       "      <td>1503960366</td>\n",
       "      <td>2016-03-26</td>\n",
       "      <td>17609</td>\n",
       "      <td>9.776222</td>\n",
       "      <td>5</td>\n",
       "      <td>0</td>\n",
       "    </tr>\n",
       "    <tr>\n",
       "      <th>2</th>\n",
       "      <td>1503960366</td>\n",
       "      <td>2016-03-27</td>\n",
       "      <td>12736</td>\n",
       "      <td>9.452266</td>\n",
       "      <td>6</td>\n",
       "      <td>0</td>\n",
       "    </tr>\n",
       "    <tr>\n",
       "      <th>3</th>\n",
       "      <td>1503960366</td>\n",
       "      <td>2016-03-28</td>\n",
       "      <td>13231</td>\n",
       "      <td>9.490393</td>\n",
       "      <td>0</td>\n",
       "      <td>0</td>\n",
       "    </tr>\n",
       "    <tr>\n",
       "      <th>4</th>\n",
       "      <td>1503960366</td>\n",
       "      <td>2016-03-29</td>\n",
       "      <td>12041</td>\n",
       "      <td>9.396156</td>\n",
       "      <td>1</td>\n",
       "      <td>0</td>\n",
       "    </tr>\n",
       "    <tr>\n",
       "      <th>...</th>\n",
       "      <td>...</td>\n",
       "      <td>...</td>\n",
       "      <td>...</td>\n",
       "      <td>...</td>\n",
       "      <td>...</td>\n",
       "      <td>...</td>\n",
       "    </tr>\n",
       "    <tr>\n",
       "      <th>410</th>\n",
       "      <td>8877689391</td>\n",
       "      <td>2016-04-08</td>\n",
       "      <td>23014</td>\n",
       "      <td>10.043901</td>\n",
       "      <td>4</td>\n",
       "      <td>0</td>\n",
       "    </tr>\n",
       "    <tr>\n",
       "      <th>411</th>\n",
       "      <td>8877689391</td>\n",
       "      <td>2016-04-09</td>\n",
       "      <td>16470</td>\n",
       "      <td>9.709357</td>\n",
       "      <td>5</td>\n",
       "      <td>0</td>\n",
       "    </tr>\n",
       "    <tr>\n",
       "      <th>412</th>\n",
       "      <td>8877689391</td>\n",
       "      <td>2016-04-10</td>\n",
       "      <td>28497</td>\n",
       "      <td>10.257589</td>\n",
       "      <td>6</td>\n",
       "      <td>0</td>\n",
       "    </tr>\n",
       "    <tr>\n",
       "      <th>413</th>\n",
       "      <td>8877689391</td>\n",
       "      <td>2016-04-11</td>\n",
       "      <td>10622</td>\n",
       "      <td>9.270777</td>\n",
       "      <td>0</td>\n",
       "      <td>0</td>\n",
       "    </tr>\n",
       "    <tr>\n",
       "      <th>414</th>\n",
       "      <td>8877689391</td>\n",
       "      <td>2016-04-12</td>\n",
       "      <td>2350</td>\n",
       "      <td>7.762596</td>\n",
       "      <td>1</td>\n",
       "      <td>1</td>\n",
       "    </tr>\n",
       "  </tbody>\n",
       "</table>\n",
       "<p>415 rows × 6 columns</p>\n",
       "</div>"
      ],
      "text/plain": [
       "             Id ActivityDate  TotalSteps  LogTotalSteps  Day  NoExercise\n",
       "0    1503960366   2016-03-25       11004       9.306105    4           0\n",
       "1    1503960366   2016-03-26       17609       9.776222    5           0\n",
       "2    1503960366   2016-03-27       12736       9.452266    6           0\n",
       "3    1503960366   2016-03-28       13231       9.490393    0           0\n",
       "4    1503960366   2016-03-29       12041       9.396156    1           0\n",
       "..          ...          ...         ...            ...  ...         ...\n",
       "410  8877689391   2016-04-08       23014      10.043901    4           0\n",
       "411  8877689391   2016-04-09       16470       9.709357    5           0\n",
       "412  8877689391   2016-04-10       28497      10.257589    6           0\n",
       "413  8877689391   2016-04-11       10622       9.270777    0           0\n",
       "414  8877689391   2016-04-12        2350       7.762596    1           1\n",
       "\n",
       "[415 rows x 6 columns]"
      ]
     },
     "execution_count": 22,
     "metadata": {},
     "output_type": "execute_result"
    }
   ],
   "source": [
    "data = pd.read_csv('../output/model_data.csv',parse_dates=['ActivityDate'])\n",
    "\n",
    "data"
   ]
  },
  {
   "cell_type": "code",
   "execution_count": 23,
   "id": "7723815e",
   "metadata": {},
   "outputs": [],
   "source": [
    "X = data.drop(columns=['Id','ActivityDate','LogTotalSteps','Day']).values\n",
    "y = data['Day'].values"
   ]
  },
  {
   "cell_type": "code",
   "execution_count": 24,
   "id": "c3460407",
   "metadata": {},
   "outputs": [
    {
     "data": {
      "image/png": "[encoded data removed]",
      "text/plain": [
       "<Figure size 640x480 with 1 Axes>"
      ]
     },
     "metadata": {},
     "output_type": "display_data"
    }
   ],
   "source": [
    "k_range = range(1,21)\n",
    "\n",
    "cv_scores = []\n",
    "\n",
    "for k in k_range:\n",
    "    knn = KNeighborsClassifier(n_neighbors=k)\n",
    "    score = cross_val_score(knn,X,y,cv=5)\n",
    "    cv_scores.append(score.mean())\n",
    "\n",
    "k_range_cv_scores = pd.DataFrame({'k_range': k_range,'cv_scores':cv_scores}).sort_values('cv_scores',ascending=False).reset_index(drop=True)\n",
    "\n",
    "k_best = k_range_cv_scores.loc[0,'k_range']\n",
    "\n",
    "plt.plot(k_range, cv_scores)\n",
    "plt.xticks(range(1,21))\n",
    "plt.xlabel('k (neighbors)')\n",
    "plt.ylabel('CV Accuracy')\n",
    "plt.title('KNN: Choosing k with Cross-Validation')\n",
    "plt.grid(True)\n",
    "plt.show()"
   ]
  },
  {
   "cell_type": "code",
   "execution_count": 25,
   "id": "74e3a390",
   "metadata": {},
   "outputs": [],
   "source": [
    "X_train,X_test,y_train,y_test = train_test_split(X,y,random_state=42,test_size=0.2)"
   ]
  },
  {
   "cell_type": "code",
   "execution_count": 26,
   "id": "53bd2788",
   "metadata": {},
   "outputs": [
    {
     "data": {
      "text/plain": [
       "array([5, 0, 5, 3, 6, 6, 6, 5, 2, 0, 6, 4, 5, 5, 5, 0, 0, 0, 6, 4, 5, 6,\n",
       "       3, 2, 5, 5, 0, 6, 0, 6, 5, 5, 2, 1, 5, 0, 0, 5, 1, 4, 0, 2, 5, 5,\n",
       "       6, 2, 5, 6, 5, 5, 5, 0, 0, 4, 0, 6, 5, 5, 5, 5, 6, 0, 2, 5, 5, 0,\n",
       "       0, 5, 5, 3, 5, 6, 0, 5, 1, 1, 6, 5, 0, 3, 1, 5, 4])"
      ]
     },
     "execution_count": 26,
     "metadata": {},
     "output_type": "execute_result"
    }
   ],
   "source": [
    "knn = KNeighborsClassifier(n_neighbors=k_best)\n",
    "knn.fit(X_train,y_train)\n",
    "knn.predict(X_test)"
   ]
  }
 ],
 "metadata": {
  "kernelspec": {
   "display_name": "fit-bit-analysis",
   "language": "python",
   "name": "python3"
  },
  "language_info": {
   "codemirror_mode": {
    "name": "ipython",
    "version": 3
   },
   "file_extension": ".py",
   "mimetype": "text/x-python",
   "name": "python",
   "nbconvert_exporter": "python",
   "pygments_lexer": "ipython3",
   "version": "3.11.11"
  }
 },
 "nbformat": 4,
 "nbformat_minor": 5
}
