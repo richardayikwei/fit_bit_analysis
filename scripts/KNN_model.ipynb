{
 "cells": [
  {
   "cell_type": "code",
   "execution_count": 214,
   "id": "273fb153",
   "metadata": {},
   "outputs": [],
   "source": [
    "import pandas as pd\n",
    "import numpy as np\n",
    "from sklearn.neighbors import KNeighborsClassifier\n",
    "from sklearn.model_selection import train_test_split,cross_val_score\n",
    "from sklearn.metrics import classification_report,confusion_matrix\n",
    "import matplotlib.pyplot as plt\n",
    "import seaborn as sns\n",
    "sns.set_context('notebook')\n",
    "sns.set_style('whitegrid')"
   ]
  },
  {
   "cell_type": "code",
   "execution_count": 215,
   "id": "f00fea72",
   "metadata": {},
   "outputs": [
    {
     "data": {
      "application/vnd.microsoft.datawrangler.viewer.v0+json": {
       "columns": [
        {
         "name": "index",
         "rawType": "int64",
         "type": "integer"
        },
        {
         "name": "Id",
         "rawType": "int64",
         "type": "integer"
        },
        {
         "name": "ActivityDate",
         "rawType": "datetime64[ns]",
         "type": "datetime"
        },
        {
         "name": "TotalSteps",
         "rawType": "int64",
         "type": "integer"
        },
        {
         "name": "LogTotalSteps",
         "rawType": "float64",
         "type": "float"
        },
        {
         "name": "Day",
         "rawType": "int64",
         "type": "integer"
        },
        {
         "name": "NoExercise",
         "rawType": "int64",
         "type": "integer"
        }
       ],
       "ref": "621b2ec8-32c4-49a0-b912-c3d9d246550c",
       "rows": [
        [
         "0",
         "1503960366",
         "2016-03-25 00:00:00",
         "11004",
         "9.30610499396056",
         "4",
         "0"
        ],
        [
         "1",
         "1503960366",
         "2016-03-26 00:00:00",
         "17609",
         "9.776222201490253",
         "5",
         "0"
        ],
        [
         "2",
         "1503960366",
         "2016-03-27 00:00:00",
         "12736",
         "9.45226642258976",
         "6",
         "0"
        ],
        [
         "3",
         "1503960366",
         "2016-03-28 00:00:00",
         "13231",
         "9.490393417263473",
         "0",
         "0"
        ],
        [
         "4",
         "1503960366",
         "2016-03-29 00:00:00",
         "12041",
         "9.396155818024392",
         "1",
         "0"
        ],
        [
         "5",
         "1503960366",
         "2016-03-30 00:00:00",
         "10970",
         "9.30301070681749",
         "2",
         "0"
        ],
        [
         "6",
         "1503960366",
         "2016-03-31 00:00:00",
         "12256",
         "9.413852481341165",
         "3",
         "0"
        ],
        [
         "7",
         "1503960366",
         "2016-04-01 00:00:00",
         "12262",
         "9.414341877762029",
         "4",
         "0"
        ],
        [
         "8",
         "1503960366",
         "2016-04-02 00:00:00",
         "11248",
         "9.328034514792826",
         "5",
         "0"
        ],
        [
         "9",
         "1503960366",
         "2016-04-03 00:00:00",
         "10016",
         "9.212038928611763",
         "6",
         "0"
        ],
        [
         "10",
         "1503960366",
         "2016-04-04 00:00:00",
         "14557",
         "9.585895949678203",
         "0",
         "0"
        ],
        [
         "11",
         "1503960366",
         "2016-04-05 00:00:00",
         "14844",
         "9.60541838719786",
         "1",
         "0"
        ],
        [
         "12",
         "1503960366",
         "2016-04-06 00:00:00",
         "11974",
         "9.390576422279116",
         "2",
         "0"
        ],
        [
         "13",
         "1503960366",
         "2016-04-07 00:00:00",
         "10198",
         "9.230044955250518",
         "3",
         "0"
        ],
        [
         "14",
         "1503960366",
         "2016-04-08 00:00:00",
         "12521",
         "9.435242376305256",
         "4",
         "0"
        ],
        [
         "15",
         "1503960366",
         "2016-04-09 00:00:00",
         "12432",
         "9.428109506952936",
         "5",
         "0"
        ],
        [
         "16",
         "1503960366",
         "2016-04-10 00:00:00",
         "10057",
         "9.21612361673191",
         "6",
         "0"
        ],
        [
         "17",
         "1503960366",
         "2016-04-11 00:00:00",
         "10990",
         "9.3048320350689",
         "0",
         "0"
        ],
        [
         "18",
         "1503960366",
         "2016-04-12 00:00:00",
         "224",
         "5.41610040220442",
         "1",
         "1"
        ],
        [
         "19",
         "1624580081",
         "2016-03-25 00:00:00",
         "1810",
         "7.501634457883413",
         "4",
         "1"
        ],
        [
         "20",
         "1624580081",
         "2016-03-26 00:00:00",
         "815",
         "6.704414354964107",
         "5",
         "1"
        ],
        [
         "21",
         "1624580081",
         "2016-03-27 00:00:00",
         "1985",
         "7.593877844605118",
         "6",
         "1"
        ],
        [
         "22",
         "1624580081",
         "2016-03-28 00:00:00",
         "1905",
         "7.552762084214147",
         "0",
         "1"
        ],
        [
         "23",
         "1624580081",
         "2016-03-29 00:00:00",
         "1552",
         "7.347943823148687",
         "1",
         "1"
        ],
        [
         "24",
         "1624580081",
         "2016-03-30 00:00:00",
         "1675",
         "7.424165281042028",
         "2",
         "1"
        ],
        [
         "25",
         "1624580081",
         "2016-03-31 00:00:00",
         "4506",
         "8.413387022690648",
         "3",
         "1"
        ],
        [
         "26",
         "1624580081",
         "2016-04-01 00:00:00",
         "9218",
         "9.129021850798594",
         "4",
         "0"
        ],
        [
         "27",
         "1624580081",
         "2016-04-02 00:00:00",
         "1556",
         "7.350516171833998",
         "5",
         "1"
        ],
        [
         "28",
         "1624580081",
         "2016-04-03 00:00:00",
         "2910",
         "7.976251943745623",
         "6",
         "1"
        ],
        [
         "29",
         "1624580081",
         "2016-04-04 00:00:00",
         "18464",
         "9.823632327286663",
         "0",
         "0"
        ],
        [
         "30",
         "1624580081",
         "2016-04-05 00:00:00",
         "1335",
         "7.197435354096591",
         "1",
         "1"
        ],
        [
         "31",
         "1624580081",
         "2016-04-06 00:00:00",
         "1004",
         "6.912742820493176",
         "2",
         "1"
        ],
        [
         "32",
         "1624580081",
         "2016-04-07 00:00:00",
         "1111",
         "7.013915474810528",
         "3",
         "1"
        ],
        [
         "33",
         "1624580081",
         "2016-04-08 00:00:00",
         "6344",
         "8.755422380148488",
         "4",
         "0"
        ],
        [
         "34",
         "1624580081",
         "2016-04-09 00:00:00",
         "3572",
         "8.181160858023409",
         "5",
         "1"
        ],
        [
         "35",
         "1624580081",
         "2016-04-10 00:00:00",
         "3910",
         "8.271548374755515",
         "6",
         "1"
        ],
        [
         "36",
         "1624580081",
         "2016-04-11 00:00:00",
         "10000",
         "9.210440366976515",
         "0",
         "0"
        ],
        [
         "37",
         "1624580081",
         "2016-04-12 00:00:00",
         "6627",
         "8.799058378546453",
         "1",
         "0"
        ],
        [
         "38",
         "1644430081",
         "2016-04-01 00:00:00",
         "4636",
         "8.441822884391462",
         "4",
         "1"
        ],
        [
         "39",
         "1644430081",
         "2016-04-02 00:00:00",
         "20237",
         "9.915317304289704",
         "5",
         "0"
        ],
        [
         "40",
         "1644430081",
         "2016-04-03 00:00:00",
         "12912",
         "9.465989834846653",
         "6",
         "0"
        ],
        [
         "41",
         "1644430081",
         "2016-04-04 00:00:00",
         "2819",
         "7.944492163932159",
         "0",
         "1"
        ],
        [
         "42",
         "1644430081",
         "2016-04-05 00:00:00",
         "9921",
         "9.202509792860994",
         "1",
         "0"
        ],
        [
         "43",
         "1644430081",
         "2016-04-06 00:00:00",
         "8046",
         "8.993054630146133",
         "2",
         "0"
        ],
        [
         "44",
         "1644430081",
         "2016-04-07 00:00:00",
         "11166",
         "9.320718279445792",
         "3",
         "0"
        ],
        [
         "45",
         "1644430081",
         "2016-04-08 00:00:00",
         "7842",
         "8.967376693212666",
         "4",
         "0"
        ],
        [
         "46",
         "1644430081",
         "2016-04-09 00:00:00",
         "13840",
         "9.535390480896702",
         "5",
         "0"
        ],
        [
         "47",
         "1644430081",
         "2016-04-10 00:00:00",
         "1329",
         "7.1929342212158",
         "6",
         "1"
        ],
        [
         "48",
         "1844505072",
         "2016-04-01 00:00:00",
         "6847",
         "8.831711917821577",
         "4",
         "0"
        ],
        [
         "49",
         "1844505072",
         "2016-04-02 00:00:00",
         "5367",
         "8.588210678651517",
         "5",
         "0"
        ]
       ],
       "shape": {
        "columns": 6,
        "rows": 415
       }
      },
      "text/html": [
       "<div>\n",
       "<style scoped>\n",
       "    .dataframe tbody tr th:only-of-type {\n",
       "        vertical-align: middle;\n",
       "    }\n",
       "\n",
       "    .dataframe tbody tr th {\n",
       "        vertical-align: top;\n",
       "    }\n",
       "\n",
       "    .dataframe thead th {\n",
       "        text-align: right;\n",
       "    }\n",
       "</style>\n",
       "<table border=\"1\" class=\"dataframe\">\n",
       "  <thead>\n",
       "    <tr style=\"text-align: right;\">\n",
       "      <th></th>\n",
       "      <th>Id</th>\n",
       "      <th>ActivityDate</th>\n",
       "      <th>TotalSteps</th>\n",
       "      <th>LogTotalSteps</th>\n",
       "      <th>Day</th>\n",
       "      <th>NoExercise</th>\n",
       "    </tr>\n",
       "  </thead>\n",
       "  <tbody>\n",
       "    <tr>\n",
       "      <th>0</th>\n",
       "      <td>1503960366</td>\n",
       "      <td>2016-03-25</td>\n",
       "      <td>11004</td>\n",
       "      <td>9.306105</td>\n",
       "      <td>4</td>\n",
       "      <td>0</td>\n",
       "    </tr>\n",
       "    <tr>\n",
       "      <th>1</th>\n",
       "      <td>1503960366</td>\n",
       "      <td>2016-03-26</td>\n",
       "      <td>17609</td>\n",
       "      <td>9.776222</td>\n",
       "      <td>5</td>\n",
       "      <td>0</td>\n",
       "    </tr>\n",
       "    <tr>\n",
       "      <th>2</th>\n",
       "      <td>1503960366</td>\n",
       "      <td>2016-03-27</td>\n",
       "      <td>12736</td>\n",
       "      <td>9.452266</td>\n",
       "      <td>6</td>\n",
       "      <td>0</td>\n",
       "    </tr>\n",
       "    <tr>\n",
       "      <th>3</th>\n",
       "      <td>1503960366</td>\n",
       "      <td>2016-03-28</td>\n",
       "      <td>13231</td>\n",
       "      <td>9.490393</td>\n",
       "      <td>0</td>\n",
       "      <td>0</td>\n",
       "    </tr>\n",
       "    <tr>\n",
       "      <th>4</th>\n",
       "      <td>1503960366</td>\n",
       "      <td>2016-03-29</td>\n",
       "      <td>12041</td>\n",
       "      <td>9.396156</td>\n",
       "      <td>1</td>\n",
       "      <td>0</td>\n",
       "    </tr>\n",
       "    <tr>\n",
       "      <th>...</th>\n",
       "      <td>...</td>\n",
       "      <td>...</td>\n",
       "      <td>...</td>\n",
       "      <td>...</td>\n",
       "      <td>...</td>\n",
       "      <td>...</td>\n",
       "    </tr>\n",
       "    <tr>\n",
       "      <th>410</th>\n",
       "      <td>8877689391</td>\n",
       "      <td>2016-04-08</td>\n",
       "      <td>23014</td>\n",
       "      <td>10.043901</td>\n",
       "      <td>4</td>\n",
       "      <td>0</td>\n",
       "    </tr>\n",
       "    <tr>\n",
       "      <th>411</th>\n",
       "      <td>8877689391</td>\n",
       "      <td>2016-04-09</td>\n",
       "      <td>16470</td>\n",
       "      <td>9.709357</td>\n",
       "      <td>5</td>\n",
       "      <td>0</td>\n",
       "    </tr>\n",
       "    <tr>\n",
       "      <th>412</th>\n",
       "      <td>8877689391</td>\n",
       "      <td>2016-04-10</td>\n",
       "      <td>28497</td>\n",
       "      <td>10.257589</td>\n",
       "      <td>6</td>\n",
       "      <td>0</td>\n",
       "    </tr>\n",
       "    <tr>\n",
       "      <th>413</th>\n",
       "      <td>8877689391</td>\n",
       "      <td>2016-04-11</td>\n",
       "      <td>10622</td>\n",
       "      <td>9.270777</td>\n",
       "      <td>0</td>\n",
       "      <td>0</td>\n",
       "    </tr>\n",
       "    <tr>\n",
       "      <th>414</th>\n",
       "      <td>8877689391</td>\n",
       "      <td>2016-04-12</td>\n",
       "      <td>2350</td>\n",
       "      <td>7.762596</td>\n",
       "      <td>1</td>\n",
       "      <td>1</td>\n",
       "    </tr>\n",
       "  </tbody>\n",
       "</table>\n",
       "<p>415 rows × 6 columns</p>\n",
       "</div>"
      ],
      "text/plain": [
       "             Id ActivityDate  TotalSteps  LogTotalSteps  Day  NoExercise\n",
       "0    1503960366   2016-03-25       11004       9.306105    4           0\n",
       "1    1503960366   2016-03-26       17609       9.776222    5           0\n",
       "2    1503960366   2016-03-27       12736       9.452266    6           0\n",
       "3    1503960366   2016-03-28       13231       9.490393    0           0\n",
       "4    1503960366   2016-03-29       12041       9.396156    1           0\n",
       "..          ...          ...         ...            ...  ...         ...\n",
       "410  8877689391   2016-04-08       23014      10.043901    4           0\n",
       "411  8877689391   2016-04-09       16470       9.709357    5           0\n",
       "412  8877689391   2016-04-10       28497      10.257589    6           0\n",
       "413  8877689391   2016-04-11       10622       9.270777    0           0\n",
       "414  8877689391   2016-04-12        2350       7.762596    1           1\n",
       "\n",
       "[415 rows x 6 columns]"
      ]
     },
     "execution_count": 215,
     "metadata": {},
     "output_type": "execute_result"
    }
   ],
   "source": [
    "data = pd.read_csv('../output/model_data.csv',parse_dates=['ActivityDate'])\n",
    "\n",
    "data"
   ]
  },
  {
   "cell_type": "code",
   "execution_count": 216,
   "id": "7723815e",
   "metadata": {},
   "outputs": [],
   "source": [
    "X_normal = data.drop(columns=['Id','ActivityDate','LogTotalSteps','Day','NoExercise']).values\n",
    "y = data['Day'].values"
   ]
  },
  {
   "cell_type": "code",
   "execution_count": 217,
   "id": "4a901662",
   "metadata": {},
   "outputs": [],
   "source": [
    "X_log = data.drop(columns=['Id','ActivityDate','TotalSteps','Day','NoExercise']).values"
   ]
  },
  {
   "cell_type": "code",
   "execution_count": 218,
   "id": "3d42a794",
   "metadata": {},
   "outputs": [],
   "source": [
    "def simulation(type,X,y):\n",
    "    '''Dispaly a chart showing the perfromance of the data\n",
    "    \n",
    "    Args:\n",
    "        type (str) : The type of X variable being passed\n",
    "        X (list): list of intergers\n",
    "        y (list): list of intergers\n",
    "\n",
    "    Return:\n",
    "        int : the K best score\n",
    "    '''\n",
    "    k_range = range(1,21)\n",
    "\n",
    "    cv_scores = []\n",
    "\n",
    "    for k in k_range:\n",
    "        knn = KNeighborsClassifier(n_neighbors=k)\n",
    "        score = cross_val_score(knn,X,y,cv=5)\n",
    "        cv_scores.append(score.mean())\n",
    "\n",
    "    k_range_cv_scores = pd.DataFrame({'k_range': k_range,'cv_scores':cv_scores})\\\n",
    "    .sort_values('cv_scores',ascending=False).reset_index(drop=True)\n",
    "\n",
    "    k_best = k_range_cv_scores.loc[0,'k_range']\n",
    "\n",
    "    print(f'{type} best K score: {k_best}')\n",
    "\n",
    "    plt.plot(k_range, cv_scores)\n",
    "    plt.xticks(range(1,21))\n",
    "    plt.xlabel('k (neighbors)')\n",
    "    plt.ylabel('CV Accuracy')\n",
    "    plt.title('KNN: Choosing k with Cross-Validation')\n",
    "    plt.grid(True)\n",
    "    plt.show() \n",
    "\n",
    "    return k_best"
   ]
  },
  {
   "cell_type": "code",
   "execution_count": 219,
   "id": "c3460407",
   "metadata": {},
   "outputs": [
    {
     "name": "stdout",
     "output_type": "stream",
     "text": [
      "Normal best K score: 14\n"
     ]
    },
    {
     "data": {
      "image/png": "[encoded data removed]",
      "text/plain": [
       "<Figure size 640x480 with 1 Axes>"
      ]
     },
     "metadata": {},
     "output_type": "display_data"
    }
   ],
   "source": [
    "k_best_normal = simulation('Normal',X_normal,y)"
   ]
  },
  {
   "cell_type": "code",
   "execution_count": 220,
   "id": "9a49c938",
   "metadata": {},
   "outputs": [
    {
     "name": "stdout",
     "output_type": "stream",
     "text": [
      "Log best K score: 2\n"
     ]
    },
    {
     "data": {
      "image/png": "[encoded data removed]",
      "text/plain": [
       "<Figure size 640x480 with 1 Axes>"
      ]
     },
     "metadata": {},
     "output_type": "display_data"
    }
   ],
   "source": [
    "k_best_log = simulation('Log',X_log,y)"
   ]
  },
  {
   "cell_type": "code",
   "execution_count": 221,
   "id": "8e7d0d4f",
   "metadata": {},
   "outputs": [],
   "source": [
    "def simulated_prediction(X,y,k):\n",
    "\n",
    "    X_train,X_test,y_train,y_test = train_test_split(X,y,random_state=42,test_size=0.2)\n",
    "    knn = KNeighborsClassifier(n_neighbors=k)\n",
    "    knn.fit(X_train,y_train)\n",
    "\n",
    "    print(f'Model score: {knn.score(X_test, y_test)}')\n",
    "    prediction = knn.predict(X_test)\n",
    "    print(classification_report(y_test,prediction))\n",
    "\n",
    "    new = pd.DataFrame(X_test)\n",
    "    new.columns = ['TotalSteps']\n",
    "    new['Day'] = y_test\n",
    "    new['PredictionDay'] = prediction\n",
    "\n",
    "    return new"
   ]
  },
  {
   "cell_type": "code",
   "execution_count": 222,
   "id": "74e3a390",
   "metadata": {},
   "outputs": [
    {
     "name": "stdout",
     "output_type": "stream",
     "text": [
      "Model score: 0.1686746987951807\n",
      "              precision    recall  f1-score   support\n",
      "\n",
      "           0       0.17      0.19      0.18        16\n",
      "           1       0.00      0.00      0.00         5\n",
      "           2       0.00      0.00      0.00        11\n",
      "           3       0.00      0.00      0.00         6\n",
      "           4       0.20      0.05      0.08        19\n",
      "           5       0.16      0.42      0.23        12\n",
      "           6       0.36      0.36      0.36        14\n",
      "\n",
      "    accuracy                           0.17        83\n",
      "   macro avg       0.13      0.14      0.12        83\n",
      "weighted avg       0.16      0.17      0.15        83\n",
      "\n"
     ]
    },
    {
     "data": {
      "application/vnd.microsoft.datawrangler.viewer.v0+json": {
       "columns": [
        {
         "name": "index",
         "rawType": "int64",
         "type": "integer"
        },
        {
         "name": "TotalSteps",
         "rawType": "int64",
         "type": "integer"
        },
        {
         "name": "Day",
         "rawType": "int64",
         "type": "integer"
        },
        {
         "name": "PredictionDay",
         "rawType": "int64",
         "type": "integer"
        }
       ],
       "ref": "ca0be59a-ff82-4ea6-a1bc-fa095883d9bc",
       "rows": [
        [
         "0",
         "5316",
         "4",
         "5"
        ],
        [
         "1",
         "6406",
         "2",
         "0"
        ],
        [
         "2",
         "5400",
         "2",
         "5"
        ],
        [
         "3",
         "4979",
         "5",
         "3"
        ],
        [
         "4",
         "10146",
         "6",
         "6"
        ],
        [
         "5",
         "9776",
         "6",
         "6"
        ],
        [
         "6",
         "1636",
         "0",
         "6"
        ],
        [
         "7",
         "10622",
         "0",
         "5"
        ],
        [
         "8",
         "7428",
         "3",
         "2"
        ],
        [
         "9",
         "14400",
         "4",
         "0"
        ],
        [
         "10",
         "2121",
         "2",
         "6"
        ],
        [
         "11",
         "4706",
         "6",
         "4"
        ],
        [
         "12",
         "0",
         "6",
         "5"
        ],
        [
         "13",
         "5142",
         "6",
         "5"
        ],
        [
         "14",
         "15392",
         "2",
         "5"
        ],
        [
         "15",
         "8350",
         "4",
         "0"
        ],
        [
         "16",
         "2767",
         "3",
         "0"
        ],
        [
         "17",
         "8468",
         "0",
         "0"
        ],
        [
         "18",
         "2106",
         "0",
         "6"
        ],
        [
         "19",
         "4499",
         "4",
         "4"
        ],
        [
         "20",
         "18700",
         "4",
         "5"
        ],
        [
         "21",
         "10016",
         "6",
         "6"
        ],
        [
         "22",
         "13603",
         "4",
         "3"
        ],
        [
         "23",
         "12437",
         "5",
         "2"
        ],
        [
         "24",
         "5477",
         "5",
         "5"
        ],
        [
         "25",
         "0",
         "4",
         "5"
        ],
        [
         "26",
         "8405",
         "5",
         "0"
        ],
        [
         "27",
         "10106",
         "0",
         "6"
        ],
        [
         "28",
         "14583",
         "5",
         "0"
        ],
        [
         "29",
         "3434",
         "6",
         "6"
        ],
        [
         "30",
         "5336",
         "4",
         "5"
        ],
        [
         "31",
         "1335",
         "1",
         "5"
        ],
        [
         "32",
         "12168",
         "0",
         "2"
        ],
        [
         "33",
         "1209",
         "0",
         "1"
        ],
        [
         "34",
         "5290",
         "6",
         "5"
        ],
        [
         "35",
         "6344",
         "4",
         "0"
        ],
        [
         "36",
         "5986",
         "0",
         "0"
        ],
        [
         "37",
         "10461",
         "4",
         "5"
        ],
        [
         "38",
         "178",
         "0",
         "1"
        ],
        [
         "39",
         "8144",
         "3",
         "4"
        ],
        [
         "40",
         "11693",
         "4",
         "0"
        ],
        [
         "41",
         "12432",
         "5",
         "2"
        ],
        [
         "42",
         "11107",
         "2",
         "5"
        ],
        [
         "43",
         "11004",
         "4",
         "5"
        ],
        [
         "44",
         "1810",
         "4",
         "6"
        ],
        [
         "45",
         "12116",
         "6",
         "2"
        ],
        [
         "46",
         "16064",
         "0",
         "5"
        ],
        [
         "47",
         "9713",
         "0",
         "6"
        ],
        [
         "48",
         "11135",
         "6",
         "5"
        ],
        [
         "49",
         "23014",
         "4",
         "5"
        ]
       ],
       "shape": {
        "columns": 3,
        "rows": 83
       }
      },
      "text/html": [
       "<div>\n",
       "<style scoped>\n",
       "    .dataframe tbody tr th:only-of-type {\n",
       "        vertical-align: middle;\n",
       "    }\n",
       "\n",
       "    .dataframe tbody tr th {\n",
       "        vertical-align: top;\n",
       "    }\n",
       "\n",
       "    .dataframe thead th {\n",
       "        text-align: right;\n",
       "    }\n",
       "</style>\n",
       "<table border=\"1\" class=\"dataframe\">\n",
       "  <thead>\n",
       "    <tr style=\"text-align: right;\">\n",
       "      <th></th>\n",
       "      <th>TotalSteps</th>\n",
       "      <th>Day</th>\n",
       "      <th>PredictionDay</th>\n",
       "    </tr>\n",
       "  </thead>\n",
       "  <tbody>\n",
       "    <tr>\n",
       "      <th>0</th>\n",
       "      <td>5316</td>\n",
       "      <td>4</td>\n",
       "      <td>5</td>\n",
       "    </tr>\n",
       "    <tr>\n",
       "      <th>1</th>\n",
       "      <td>6406</td>\n",
       "      <td>2</td>\n",
       "      <td>0</td>\n",
       "    </tr>\n",
       "    <tr>\n",
       "      <th>2</th>\n",
       "      <td>5400</td>\n",
       "      <td>2</td>\n",
       "      <td>5</td>\n",
       "    </tr>\n",
       "    <tr>\n",
       "      <th>3</th>\n",
       "      <td>4979</td>\n",
       "      <td>5</td>\n",
       "      <td>3</td>\n",
       "    </tr>\n",
       "    <tr>\n",
       "      <th>4</th>\n",
       "      <td>10146</td>\n",
       "      <td>6</td>\n",
       "      <td>6</td>\n",
       "    </tr>\n",
       "    <tr>\n",
       "      <th>...</th>\n",
       "      <td>...</td>\n",
       "      <td>...</td>\n",
       "      <td>...</td>\n",
       "    </tr>\n",
       "    <tr>\n",
       "      <th>78</th>\n",
       "      <td>2600</td>\n",
       "      <td>2</td>\n",
       "      <td>0</td>\n",
       "    </tr>\n",
       "    <tr>\n",
       "      <th>79</th>\n",
       "      <td>13513</td>\n",
       "      <td>2</td>\n",
       "      <td>3</td>\n",
       "    </tr>\n",
       "    <tr>\n",
       "      <th>80</th>\n",
       "      <td>1004</td>\n",
       "      <td>2</td>\n",
       "      <td>1</td>\n",
       "    </tr>\n",
       "    <tr>\n",
       "      <th>81</th>\n",
       "      <td>5594</td>\n",
       "      <td>6</td>\n",
       "      <td>5</td>\n",
       "    </tr>\n",
       "    <tr>\n",
       "      <th>82</th>\n",
       "      <td>10330</td>\n",
       "      <td>6</td>\n",
       "      <td>4</td>\n",
       "    </tr>\n",
       "  </tbody>\n",
       "</table>\n",
       "<p>83 rows × 3 columns</p>\n",
       "</div>"
      ],
      "text/plain": [
       "    TotalSteps  Day  PredictionDay\n",
       "0         5316    4              5\n",
       "1         6406    2              0\n",
       "2         5400    2              5\n",
       "3         4979    5              3\n",
       "4        10146    6              6\n",
       "..         ...  ...            ...\n",
       "78        2600    2              0\n",
       "79       13513    2              3\n",
       "80        1004    2              1\n",
       "81        5594    6              5\n",
       "82       10330    6              4\n",
       "\n",
       "[83 rows x 3 columns]"
      ]
     },
     "execution_count": 222,
     "metadata": {},
     "output_type": "execute_result"
    }
   ],
   "source": [
    "normal_new = simulated_prediction(X_normal,y,k_best_normal)\n",
    "normal_new"
   ]
  },
  {
   "cell_type": "code",
   "execution_count": 225,
   "id": "39bb3230",
   "metadata": {},
   "outputs": [
    {
     "name": "stdout",
     "output_type": "stream",
     "text": [
      "Model score: 0.1927710843373494\n",
      "              precision    recall  f1-score   support\n",
      "\n",
      "           0       0.11      0.12      0.11        16\n",
      "           1       0.09      0.40      0.14         5\n",
      "           2       0.38      0.55      0.44        11\n",
      "           3       0.00      0.00      0.00         6\n",
      "           4       0.45      0.26      0.33        19\n",
      "           5       0.00      0.00      0.00        12\n",
      "           6       0.50      0.07      0.12        14\n",
      "\n",
      "    accuracy                           0.19        83\n",
      "   macro avg       0.22      0.20      0.17        83\n",
      "weighted avg       0.26      0.19      0.19        83\n",
      "\n"
     ]
    },
    {
     "data": {
      "application/vnd.microsoft.datawrangler.viewer.v0+json": {
       "columns": [
        {
         "name": "index",
         "rawType": "int64",
         "type": "integer"
        },
        {
         "name": "TotalSteps",
         "rawType": "float64",
         "type": "float"
        },
        {
         "name": "Day",
         "rawType": "int64",
         "type": "integer"
        },
        {
         "name": "PredictionDay",
         "rawType": "int64",
         "type": "integer"
        }
       ],
       "ref": "172c4dc3-542c-4cd2-8dc8-e37980aab5ce",
       "rows": [
        [
         "0",
         "8.57866451350434",
         "4",
         "4"
        ],
        [
         "1",
         "8.765146421639022",
         "2",
         "0"
        ],
        [
         "2",
         "8.594339400592892",
         "2",
         "2"
        ],
        [
         "3",
         "8.513185170018698",
         "5",
         "1"
        ],
        [
         "4",
         "9.224933374279082",
         "6",
         "6"
        ],
        [
         "5",
         "9.18778796750567",
         "6",
         "1"
        ],
        [
         "6",
         "7.400620577371135",
         "0",
         "5"
        ],
        [
         "7",
         "9.270776740780011",
         "0",
         "1"
        ],
        [
         "8",
         "8.913146539151807",
         "3",
         "1"
        ],
        [
         "9",
         "9.575052927597383",
         "4",
         "0"
        ],
        [
         "10",
         "7.660114319173928",
         "2",
         "2"
        ],
        [
         "11",
         "8.456806041401142",
         "6",
         "4"
        ],
        [
         "12",
         "0.0",
         "6",
         "4"
        ],
        [
         "13",
         "8.545391845774915",
         "6",
         "1"
        ],
        [
         "14",
         "9.641668139610074",
         "2",
         "2"
        ],
        [
         "15",
         "9.03013657115323",
         "4",
         "1"
        ],
        [
         "16",
         "7.92588031673756",
         "3",
         "0"
        ],
        [
         "17",
         "9.0441677169216",
         "0",
         "0"
        ],
        [
         "18",
         "7.653020413804189",
         "0",
         "1"
        ],
        [
         "19",
         "8.411832675758411",
         "4",
         "1"
        ],
        [
         "20",
         "9.83633227734872",
         "4",
         "0"
        ],
        [
         "21",
         "9.212038928611763",
         "6",
         "0"
        ],
        [
         "22",
         "9.518119146127086",
         "4",
         "0"
        ],
        [
         "23",
         "9.428511581663834",
         "5",
         "2"
        ],
        [
         "24",
         "8.608495349823023",
         "5",
         "0"
        ],
        [
         "25",
         "0.0",
         "4",
         "4"
        ],
        [
         "26",
         "9.036701015565065",
         "5",
         "3"
        ],
        [
         "27",
         "9.220983532074662",
         "0",
         "1"
        ],
        [
         "28",
         "9.5876803163585",
         "5",
         "0"
        ],
        [
         "29",
         "8.14177220465645",
         "6",
         "1"
        ],
        [
         "30",
         "8.582418976333944",
         "4",
         "4"
        ],
        [
         "31",
         "7.197435354096591",
         "1",
         "3"
        ],
        [
         "32",
         "9.4066470133368",
         "0",
         "1"
        ],
        [
         "33",
         "7.098375638590786",
         "0",
         "2"
        ],
        [
         "34",
         "8.57376254290413",
         "6",
         "4"
        ],
        [
         "35",
         "8.755422380148488",
         "4",
         "2"
        ],
        [
         "36",
         "8.697345730925353",
         "0",
         "1"
        ],
        [
         "37",
         "9.255504923930555",
         "4",
         "4"
        ],
        [
         "38",
         "5.187385805840755",
         "0",
         "1"
        ],
        [
         "39",
         "9.005159521036145",
         "3",
         "0"
        ],
        [
         "40",
         "9.366831168735615",
         "4",
         "4"
        ],
        [
         "41",
         "9.428109506952936",
         "5",
         "2"
        ],
        [
         "42",
         "9.31542084842669",
         "2",
         "2"
        ],
        [
         "43",
         "9.30610499396056",
         "4",
         "2"
        ],
        [
         "44",
         "7.501634457883413",
         "4",
         "2"
        ],
        [
         "45",
         "9.402364704231523",
         "6",
         "1"
        ],
        [
         "46",
         "9.68439827154996",
         "0",
         "5"
        ],
        [
         "47",
         "9.18132342290569",
         "0",
         "3"
        ],
        [
         "48",
         "9.3179383825742",
         "6",
         "5"
        ],
        [
         "49",
         "10.043901456251342",
         "4",
         "2"
        ]
       ],
       "shape": {
        "columns": 3,
        "rows": 83
       }
      },
      "text/html": [
       "<div>\n",
       "<style scoped>\n",
       "    .dataframe tbody tr th:only-of-type {\n",
       "        vertical-align: middle;\n",
       "    }\n",
       "\n",
       "    .dataframe tbody tr th {\n",
       "        vertical-align: top;\n",
       "    }\n",
       "\n",
       "    .dataframe thead th {\n",
       "        text-align: right;\n",
       "    }\n",
       "</style>\n",
       "<table border=\"1\" class=\"dataframe\">\n",
       "  <thead>\n",
       "    <tr style=\"text-align: right;\">\n",
       "      <th></th>\n",
       "      <th>TotalSteps</th>\n",
       "      <th>Day</th>\n",
       "      <th>PredictionDay</th>\n",
       "    </tr>\n",
       "  </thead>\n",
       "  <tbody>\n",
       "    <tr>\n",
       "      <th>0</th>\n",
       "      <td>8.578665</td>\n",
       "      <td>4</td>\n",
       "      <td>4</td>\n",
       "    </tr>\n",
       "    <tr>\n",
       "      <th>1</th>\n",
       "      <td>8.765146</td>\n",
       "      <td>2</td>\n",
       "      <td>0</td>\n",
       "    </tr>\n",
       "    <tr>\n",
       "      <th>2</th>\n",
       "      <td>8.594339</td>\n",
       "      <td>2</td>\n",
       "      <td>2</td>\n",
       "    </tr>\n",
       "    <tr>\n",
       "      <th>3</th>\n",
       "      <td>8.513185</td>\n",
       "      <td>5</td>\n",
       "      <td>1</td>\n",
       "    </tr>\n",
       "    <tr>\n",
       "      <th>4</th>\n",
       "      <td>9.224933</td>\n",
       "      <td>6</td>\n",
       "      <td>6</td>\n",
       "    </tr>\n",
       "    <tr>\n",
       "      <th>...</th>\n",
       "      <td>...</td>\n",
       "      <td>...</td>\n",
       "      <td>...</td>\n",
       "    </tr>\n",
       "    <tr>\n",
       "      <th>78</th>\n",
       "      <td>7.863651</td>\n",
       "      <td>2</td>\n",
       "      <td>6</td>\n",
       "    </tr>\n",
       "    <tr>\n",
       "      <th>79</th>\n",
       "      <td>9.511481</td>\n",
       "      <td>2</td>\n",
       "      <td>0</td>\n",
       "    </tr>\n",
       "    <tr>\n",
       "      <th>80</th>\n",
       "      <td>6.912743</td>\n",
       "      <td>2</td>\n",
       "      <td>1</td>\n",
       "    </tr>\n",
       "    <tr>\n",
       "      <th>81</th>\n",
       "      <td>8.629629</td>\n",
       "      <td>6</td>\n",
       "      <td>1</td>\n",
       "    </tr>\n",
       "    <tr>\n",
       "      <th>82</th>\n",
       "      <td>9.242904</td>\n",
       "      <td>6</td>\n",
       "      <td>3</td>\n",
       "    </tr>\n",
       "  </tbody>\n",
       "</table>\n",
       "<p>83 rows × 3 columns</p>\n",
       "</div>"
      ],
      "text/plain": [
       "    TotalSteps  Day  PredictionDay\n",
       "0     8.578665    4              4\n",
       "1     8.765146    2              0\n",
       "2     8.594339    2              2\n",
       "3     8.513185    5              1\n",
       "4     9.224933    6              6\n",
       "..         ...  ...            ...\n",
       "78    7.863651    2              6\n",
       "79    9.511481    2              0\n",
       "80    6.912743    2              1\n",
       "81    8.629629    6              1\n",
       "82    9.242904    6              3\n",
       "\n",
       "[83 rows x 3 columns]"
      ]
     },
     "execution_count": 225,
     "metadata": {},
     "output_type": "execute_result"
    }
   ],
   "source": [
    "log_new = simulated_prediction(X_log,y,k_best_log)\n",
    "log_new"
   ]
  },
  {
   "cell_type": "code",
   "execution_count": 226,
   "id": "f57e9cd4",
   "metadata": {},
   "outputs": [
    {
     "data": {
      "image/png": "[encoded data removed]",
      "text/plain": [
       "<Figure size 1800x600 with 1 Axes>"
      ]
     },
     "metadata": {},
     "output_type": "display_data"
    }
   ],
   "source": [
    "plt.figure(figsize=(18,6),dpi=100)\n",
    "sns.lineplot(data=new,x='TotalSteps',y='Day',label='Actual')\n",
    "sns.lineplot(data=new,x='TotalSteps',y='PredictionDay',label='Predicted')\n",
    "plt.show()"
   ]
  }
 ],
 "metadata": {
  "kernelspec": {
   "display_name": "fit-bit-analysis",
   "language": "python",
   "name": "python3"
  },
  "language_info": {
   "codemirror_mode": {
    "name": "ipython",
    "version": 3
   },
   "file_extension": ".py",
   "mimetype": "text/x-python",
   "name": "python",
   "nbconvert_exporter": "python",
   "pygments_lexer": "ipython3",
   "version": "3.11.11"
  }
 },
 "nbformat": 4,
 "nbformat_minor": 5
}
